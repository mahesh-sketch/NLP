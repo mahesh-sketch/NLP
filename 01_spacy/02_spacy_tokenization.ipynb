{
 "cells": [
  {
   "cell_type": "code",
   "execution_count": 1,
   "id": "d62d2d04",
   "metadata": {},
   "outputs": [],
   "source": [
    "import spacy"
   ]
  },
  {
   "cell_type": "code",
   "execution_count": 2,
   "id": "2f576f6a",
   "metadata": {},
   "outputs": [
    {
     "name": "stdout",
     "output_type": "stream",
     "text": [
      "['Dr.', 'Strange', 'loves', 'pav', 'bhaji', 'of', 'mumbai', 'as', 'it', 'costs', 'only', '2', '$', 'per', 'plate', '.']\n"
     ]
    }
   ],
   "source": [
    "nlp = spacy.blank('en')\n",
    "doc = nlp('Dr. Strange loves pav bhaji of mumbai as it costs only 2$ per plate.')\n",
    "token = [tokens.text for tokens in doc ]\n",
    "print(token)"
   ]
  },
  {
   "cell_type": "code",
   "execution_count": 7,
   "id": "c1370c1c",
   "metadata": {},
   "outputs": [
    {
     "name": "stdout",
     "output_type": "stream",
     "text": [
      "Dr.\n",
      "['Dr.', 'Strange', 'loves', 'pav', 'bhaji']\n",
      "False\n"
     ]
    }
   ],
   "source": [
    "print(token[0])\n",
    "print(token[:5])\n",
    "print(token[0].isalpha())"
   ]
  },
  {
   "cell_type": "code",
   "execution_count": 11,
   "id": "ad97c1ed",
   "metadata": {},
   "outputs": [
    {
     "name": "stdout",
     "output_type": "stream",
     "text": [
      "['2']\n"
     ]
    }
   ],
   "source": [
    "num = [number for number in token if number.isnumeric() ]\n",
    "print(num)"
   ]
  },
  {
   "cell_type": "markdown",
   "id": "436a913b",
   "metadata": {},
   "source": [
    "Customizing Tokenizer"
   ]
  },
  {
   "cell_type": "code",
   "execution_count": 17,
   "id": "7db302be",
   "metadata": {},
   "outputs": [
    {
     "name": "stdout",
     "output_type": "stream",
     "text": [
      "['gim', 'me', 'double', 'cheese', 'extra', 'large', 'healthy', 'pizza']\n"
     ]
    }
   ],
   "source": [
    "from spacy.symbols import ORTH\n",
    "\n",
    "nlp.tokenizer.add_special_case(\"gimme\",[\n",
    "    {ORTH:\"gim\"},\n",
    "    {ORTH:\"me\"},\n",
    "])\n",
    "doc = nlp('gimme double cheese extra large healthy pizza')\n",
    "tokens = [token.text for token in doc]\n",
    "print(tokens)"
   ]
  },
  {
   "cell_type": "markdown",
   "id": "1c277377",
   "metadata": {},
   "source": [
    "Sentence Tokenization or segmentation"
   ]
  },
  {
   "cell_type": "code",
   "execution_count": null,
   "id": "2426fd17",
   "metadata": {},
   "outputs": [
    {
     "name": "stdout",
     "output_type": "stream",
     "text": [
      "[Dr. Strange loves pav bhaji of mumbai., Hulk loves chat of delhi]\n"
     ]
    }
   ],
   "source": [
    "E\n",
    "doc = nlp(\"Dr. Strange loves pav bhaji of mumbai. Hulk loves chat of delhi\")\n",
    "sentence = [sentence for sentence in doc.sents]\n",
    "print(sentence)"
   ]
  },
  {
   "cell_type": "markdown",
   "id": "7b6f23bb",
   "metadata": {},
   "source": [
    "Exercise"
   ]
  },
  {
   "cell_type": "code",
   "execution_count": 22,
   "id": "ae6c732e",
   "metadata": {},
   "outputs": [
    {
     "name": "stdout",
     "output_type": "stream",
     "text": [
      "['http://www.data.gov/', 'http://www.science', 'http://data.gov.uk/.', 'http://www3.norc.org/gss+website/', 'http://www.europeansocialsurvey.org/.']\n"
     ]
    }
   ],
   "source": [
    "text='''\n",
    "Look for data to help you address the question. Governments are good\n",
    "sources because data from public research is often freely available. Good\n",
    "places to start include http://www.data.gov/, and http://www.science.\n",
    "gov/, and in the United Kingdom, http://data.gov.uk/.\n",
    "Two of my favorite data sets are the General Social Survey at http://www3.norc.org/gss+website/, \n",
    "and the European Social Survey at http://www.europeansocialsurvey.org/.\n",
    "'''\n",
    "doc = nlp(text)\n",
    "dataset_link = [link.text for link in doc if link.like_url]\n",
    "print(dataset_link)\n"
   ]
  },
  {
   "cell_type": "code",
   "execution_count": null,
   "id": "b2583390",
   "metadata": {},
   "outputs": [
    {
     "name": "stdout",
     "output_type": "stream",
     "text": [
      "two $\n",
      "500 €\n",
      "[(two, $), (500, €)]\n"
     ]
    }
   ],
   "source": [
    "transactions = \"Tony gave two $ to Peter, Bruce gave 500 € to Steve\"\n",
    "doc = nlp(transactions)\n",
    "# money_transcation = [(money,doc[money.i+1]) for money in doc if money.like_num and doc[money.i+1].is_currency]\n",
    "for money in doc:\n",
    "    # print(money)\n",
    "    if money.like_num and doc[money.i+1].is_currency:\n",
    "        print(money.text,doc[money.i+1].text)\n",
    "\n",
    "# print(money_transcation)"
   ]
  }
 ],
 "metadata": {
  "kernelspec": {
   "display_name": "Python 3",
   "language": "python",
   "name": "python3"
  },
  "language_info": {
   "codemirror_mode": {
    "name": "ipython",
    "version": 3
   },
   "file_extension": ".py",
   "mimetype": "text/x-python",
   "name": "python",
   "nbconvert_exporter": "python",
   "pygments_lexer": "ipython3",
   "version": "3.11.9"
  }
 },
 "nbformat": 4,
 "nbformat_minor": 5
}
