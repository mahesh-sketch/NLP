{
 "cells": [
  {
   "cell_type": "markdown",
   "id": "2379a781",
   "metadata": {},
   "source": [
    "Stemming in NLTK"
   ]
  },
  {
   "cell_type": "code",
   "execution_count": 18,
   "id": "9b676354",
   "metadata": {},
   "outputs": [],
   "source": [
    "from nltk.stem import PorterStemmer"
   ]
  },
  {
   "cell_type": "code",
   "execution_count": 19,
   "id": "12177080",
   "metadata": {},
   "outputs": [
    {
     "name": "stdout",
     "output_type": "stream",
     "text": [
      "eating | eat\n",
      "eats | eat\n",
      "eat | eat\n",
      "ate | ate\n",
      "adjustable | adjust\n",
      "rafting | raft\n",
      "ability | abil\n",
      "meeting | meet\n"
     ]
    }
   ],
   "source": [
    "stemmer = PorterStemmer()\n",
    "words = [\"eating\", \"eats\", \"eat\", \"ate\", \"adjustable\", \"rafting\", \"ability\", \"meeting\"]\n",
    "for word in words:\n",
    "    print(word, \"|\", stemmer.stem(word))"
   ]
  },
  {
   "cell_type": "markdown",
   "id": "fe2ba206",
   "metadata": {},
   "source": [
    "Lemmatization in Spacy\n"
   ]
  },
  {
   "cell_type": "code",
   "execution_count": 20,
   "id": "8bd732ca",
   "metadata": {},
   "outputs": [],
   "source": [
    "import spacy"
   ]
  },
  {
   "cell_type": "code",
   "execution_count": 21,
   "id": "fecc0225",
   "metadata": {},
   "outputs": [
    {
     "name": "stdout",
     "output_type": "stream",
     "text": [
      "eating  |  eat\n",
      "eats  |  eat\n",
      "eat  |  eat\n",
      "ate  |  eat\n",
      "adjustable  |  adjustable\n",
      "rafting  |  raft\n",
      "ability  |  ability\n",
      "meeting  |  meet\n",
      "better  |  well\n"
     ]
    }
   ],
   "source": [
    "nlp = spacy.load(\"en_core_web_sm\")\n",
    "\n",
    "doc = nlp(\"Mando talked for 3 hours although talking isn't his thing\")\n",
    "doc = nlp(\"eating eats eat ate adjustable rafting ability meeting better\")\n",
    "for token in doc:\n",
    "    print(token, \" | \", token.lemma_)"
   ]
  },
  {
   "cell_type": "code",
   "execution_count": 22,
   "id": "3cec2fbe",
   "metadata": {},
   "outputs": [
    {
     "data": {
      "text/plain": [
       "['tok2vec', 'tagger', 'parser', 'attribute_ruler', 'lemmatizer', 'ner']"
      ]
     },
     "execution_count": 22,
     "metadata": {},
     "output_type": "execute_result"
    }
   ],
   "source": [
    "nlp.pipe_names"
   ]
  },
  {
   "cell_type": "markdown",
   "id": "e7bcaf56",
   "metadata": {},
   "source": [
    "Customizing lemmatizer\n"
   ]
  },
  {
   "cell_type": "code",
   "execution_count": 23,
   "id": "ab241855",
   "metadata": {},
   "outputs": [
    {
     "data": {
      "text/plain": [
       "[('Bro', 'Brother'),\n",
       " (',', ','),\n",
       " ('you', 'you'),\n",
       " ('wanna', 'wanna'),\n",
       " ('go', 'go'),\n",
       " ('?', '?'),\n",
       " ('Brah', 'Brother'),\n",
       " (',', ','),\n",
       " ('do', 'do'),\n",
       " (\"n't\", 'not'),\n",
       " ('say', 'say'),\n",
       " ('no', 'no'),\n",
       " ('!', '!'),\n",
       " ('I', 'I'),\n",
       " ('am', 'be'),\n",
       " ('exhausted', 'exhaust')]"
      ]
     },
     "execution_count": 23,
     "metadata": {},
     "output_type": "execute_result"
    }
   ],
   "source": [
    "arr = nlp.get_pipe('attribute_ruler')\n",
    "arr.add([[{\"TEXT\":\"Bro\"}],[{\"TEXT\":\"Brah\"}]],{\"LEMMA\":\"Brother\"})\n",
    "doc = nlp(\"Bro, you wanna go? Brah, don't say no! I am exhausted\")\n",
    "\n",
    "token = [(tokens.text,tokens.lemma_) for tokens in doc]\n",
    "token"
   ]
  },
  {
   "cell_type": "markdown",
   "id": "25f6afab",
   "metadata": {},
   "source": [
    "Exercise"
   ]
  },
  {
   "cell_type": "code",
   "execution_count": 26,
   "id": "81e26059",
   "metadata": {},
   "outputs": [
    {
     "data": {
      "text/plain": [
       "[(running, 'run'),\n",
       " (painting, 'painting'),\n",
       " (walking, 'walking'),\n",
       " (dressing, 'dress'),\n",
       " (likely, 'likely'),\n",
       " (children, 'child'),\n",
       " (who, 'who'),\n",
       " (good, 'good'),\n",
       " (ate, 'eat'),\n",
       " (fishing, 'fish')]"
      ]
     },
     "execution_count": 26,
     "metadata": {},
     "output_type": "execute_result"
    }
   ],
   "source": [
    "\n",
    "\n",
    "doc = nlp(\"running painting walking dressing likely children who good ate fishing\")\n",
    "lemmatization = [(word,word.lemma_) for word in doc]\n",
    "lemmatization"
   ]
  },
  {
   "cell_type": "code",
   "execution_count": 36,
   "id": "c960360a",
   "metadata": {},
   "outputs": [
    {
     "name": "stdout",
     "output_type": "stream",
     "text": [
      "Lemma word list:  ['Latha', 'is', 'very', 'multi', 'talented', 'girl', '.', 'She', 'is', 'good', 'at', 'many', 'skills', 'like', 'dancing', ',', 'running', ',', 'singing', ',', 'playing', '.', 'She', 'also', 'likes', 'eating', 'Pav', 'Bhagi', '.', 'she', 'has', 'a', '\\n', 'habit', 'of', 'fishing', 'and', 'swimming', 'too', '.', 'Besides', 'all', 'this', ',', 'she', 'is', 'a', 'wonderful', 'at', 'cooking', 'too', '.', '\\n']\n",
      "Latha is very multi talented girl . She is good at many skills like dancing , running , singing , playing . She also likes eating Pav Bhagi . she has a \n",
      " habit of fishing and swimming too . Besides all this , she is a wonderful at cooking too . \n",
      "\n"
     ]
    }
   ],
   "source": [
    "text = \"\"\"Latha is very multi talented girl.She is good at many skills like dancing, running, singing, playing.She also likes eating Pav Bhagi. she has a \n",
    "habit of fishing and swimming too.Besides all this, she is a wonderful at cooking too.\n",
    "\"\"\"\n",
    "\n",
    "#step1: Word tokenizing\n",
    "doc = nlp(text)\n",
    "\n",
    "\n",
    "#step2: getting the base form for each token using spacy 'lemma_'\n",
    "lemmatizations = [token.text for token in doc]\n",
    "print(\"Lemma word list: \",lemmatizations)\n",
    "\n",
    "#step3: joining all words in a list into string using 'join()'\n",
    "full_text_lemma = \" \".join(lemmatizations)\n",
    "    \n",
    "print(full_text_lemma)"
   ]
  }
 ],
 "metadata": {
  "kernelspec": {
   "display_name": "Python 3",
   "language": "python",
   "name": "python3"
  },
  "language_info": {
   "codemirror_mode": {
    "name": "ipython",
    "version": 3
   },
   "file_extension": ".py",
   "mimetype": "text/x-python",
   "name": "python",
   "nbconvert_exporter": "python",
   "pygments_lexer": "ipython3",
   "version": "3.11.9"
  }
 },
 "nbformat": 4,
 "nbformat_minor": 5
}
