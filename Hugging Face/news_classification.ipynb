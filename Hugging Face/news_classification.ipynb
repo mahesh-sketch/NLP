{
 "cells": [
  {
   "cell_type": "code",
   "execution_count": 10,
   "id": "55b112a3",
   "metadata": {},
   "outputs": [],
   "source": [
    "import pandas as pd\n",
    "from sklearn.model_selection import train_test_split"
   ]
  },
  {
   "cell_type": "code",
   "execution_count": 11,
   "id": "d1f4c8a5",
   "metadata": {},
   "outputs": [],
   "source": [
    "df = pd.read_csv(\"../Dataset/fake_and_real_news.csv\")\n",
    "\n",
    "df['label_num'] = df['label'].map({'Fake':0,'Real':1})\n",
    "\n",
    "train_texts,test_texts,train_labels,test_labels = train_test_split(\n",
    "    df['Text'].tolist(),\n",
    "    df['label_num'].tolist(),\n",
    "    test_size=0.2,\n",
    "    random_state=42\n",
    ")"
   ]
  },
  {
   "cell_type": "markdown",
   "id": "5f91fc0d",
   "metadata": {},
   "source": [
    "Tokenization with Hugging Face Tokenizer\n",
    "We'll use the BertTokenizer for tokenizing the text data:\n"
   ]
  },
  {
   "cell_type": "code",
   "execution_count": 12,
   "id": "c588e110",
   "metadata": {},
   "outputs": [],
   "source": [
    "from transformers import AutoTokenizer, AutoModelForSequenceClassification\n",
    "\n",
    "model_name = \"prajjwal1/bert-tiny\"\n",
    "tokenizer = AutoTokenizer.from_pretrained(model_name)\n",
    "\n",
    "train_encodings = tokenizer(train_texts,truncation=True,padding=True,max_length =64)\n",
    "test_encodings = tokenizer(test_texts,truncation=True,padding=True,max_length =64)\n"
   ]
  },
  {
   "cell_type": "code",
   "execution_count": null,
   "id": "1dd00a4d",
   "metadata": {},
   "outputs": [
    {
     "name": "stderr",
     "output_type": "stream",
     "text": [
      "c:\\Users\\ASUS\\AppData\\Local\\Programs\\Python\\Python311\\Lib\\site-packages\\tqdm\\auto.py:21: TqdmWarning: IProgress not found. Please update jupyter and ipywidgets. See https://ipywidgets.readthedocs.io/en/stable/user_install.html\n",
      "  from .autonotebook import tqdm as notebook_tqdm\n",
      "W0517 00:05:48.404000 9532 site-packages\\torch\\distributed\\elastic\\multiprocessing\\redirects.py:29] NOTE: Redirects are currently not supported in Windows or MacOs.\n"
     ]
    }
   ],
   "source": [
    "\"\"\" from transformers import DistilBertTokenizerFast\n",
    "\n",
    "# Intiallize the Tokenizer\n",
    "tokenizer = DistilBertTokenizerFast.from_pretrained('distilbert-base-uncased')\n",
    "\n",
    "# Tokenize the Data \n",
    "train_encodings = tokenizer(train_texts,truncation=True,padding=True,max_length =128)\n",
    "test_encodings = tokenizer(test_texts,truncation=True,padding=True,max_length =128) \"\"\""
   ]
  },
  {
   "cell_type": "code",
   "execution_count": 13,
   "id": "5f161686",
   "metadata": {},
   "outputs": [
    {
     "name": "stdout",
     "output_type": "stream",
     "text": [
      "{'input_ids': [101, 2004, 2047, 10807, 2095, 6440, 2015, 1010, 3246, 2005, 4307, 5166, 11737, 2015, 3190, 1006, 26665, 1007, 1011, 26875, 1037, 3181, 4530, 2000, 18015, 5416, 3570, 1010, 4307, 2211, 2049, 2353, 3442, 10807, 2095, 2302, 1037, 5166, 2006, 5095, 2004, 2576, 17519, 2075, 11737, 7583, 8069, 2005, 1037, 12170, 26053, 5938, 1998, 6599, 7427, 15933, 2574, 1012, 2096, 1996, 2160, 5115, 5219, 102], 'token_type_ids': [0, 0, 0, 0, 0, 0, 0, 0, 0, 0, 0, 0, 0, 0, 0, 0, 0, 0, 0, 0, 0, 0, 0, 0, 0, 0, 0, 0, 0, 0, 0, 0, 0, 0, 0, 0, 0, 0, 0, 0, 0, 0, 0, 0, 0, 0, 0, 0, 0, 0, 0, 0, 0, 0, 0, 0, 0, 0, 0, 0, 0, 0, 0, 0], 'attention_mask': [1, 1, 1, 1, 1, 1, 1, 1, 1, 1, 1, 1, 1, 1, 1, 1, 1, 1, 1, 1, 1, 1, 1, 1, 1, 1, 1, 1, 1, 1, 1, 1, 1, 1, 1, 1, 1, 1, 1, 1, 1, 1, 1, 1, 1, 1, 1, 1, 1, 1, 1, 1, 1, 1, 1, 1, 1, 1, 1, 1, 1, 1, 1, 1]}\n"
     ]
    }
   ],
   "source": [
    "# Print the encoding for the first training example\n",
    "first_encoding = {k: v[0] for k, v in train_encodings.items()}\n",
    "print(first_encoding)"
   ]
  },
  {
   "cell_type": "code",
   "execution_count": 14,
   "id": "b4cd980c",
   "metadata": {},
   "outputs": [
    {
     "name": "stdout",
     "output_type": "stream",
     "text": [
      "Key: input_ids\n",
      "Value: [[101, 2004, 2047, 10807, 2095, 6440, 2015, 1010, 3246, 2005, 4307, 5166, 11737, 2015, 3190, 1006, 26665, 1007, 1011, 26875, 1037, 3181, 4530, 2000, 18015, 5416, 3570, 1010, 4307, 2211, 2049, 2353, 3442, 10807, 2095, 2302, 1037, 5166, 2006, 5095, 2004, 2576, 17519, 2075, 11737, 7583, 8069, 2005, 1037, 12170, 26053, 5938, 1998, 6599, 7427, 15933, 2574, 1012, 2096, 1996, 2160, 5115, 5219, 102], [101, 8040, 28600, 2121, 2758, 1057, 1012, 1055, 1012, 5166, 3066, 2079, 3085, 2065, 8398, 12237, 2041, 1997, 2009, 2899, 1006, 26665, 1007, 1011, 4001, 3537, 3003, 8057, 8040, 28600, 2121, 2056, 2006, 4465, 2002, 7164, 2375, 12088, 2071, 3362, 1037, 2460, 1011, 2744, 1057, 1012, 1055, 1012, 5166, 3066, 2011, 5958, 2065, 2343, 6221, 8398, 2106, 2025, 19960, 10362, 1999, 2037, 7566, 102]] ...\n",
      "Key: token_type_ids\n",
      "Value: [[0, 0, 0, 0, 0, 0, 0, 0, 0, 0, 0, 0, 0, 0, 0, 0, 0, 0, 0, 0, 0, 0, 0, 0, 0, 0, 0, 0, 0, 0, 0, 0, 0, 0, 0, 0, 0, 0, 0, 0, 0, 0, 0, 0, 0, 0, 0, 0, 0, 0, 0, 0, 0, 0, 0, 0, 0, 0, 0, 0, 0, 0, 0, 0], [0, 0, 0, 0, 0, 0, 0, 0, 0, 0, 0, 0, 0, 0, 0, 0, 0, 0, 0, 0, 0, 0, 0, 0, 0, 0, 0, 0, 0, 0, 0, 0, 0, 0, 0, 0, 0, 0, 0, 0, 0, 0, 0, 0, 0, 0, 0, 0, 0, 0, 0, 0, 0, 0, 0, 0, 0, 0, 0, 0, 0, 0, 0, 0]] ...\n",
      "Key: attention_mask\n",
      "Value: [[1, 1, 1, 1, 1, 1, 1, 1, 1, 1, 1, 1, 1, 1, 1, 1, 1, 1, 1, 1, 1, 1, 1, 1, 1, 1, 1, 1, 1, 1, 1, 1, 1, 1, 1, 1, 1, 1, 1, 1, 1, 1, 1, 1, 1, 1, 1, 1, 1, 1, 1, 1, 1, 1, 1, 1, 1, 1, 1, 1, 1, 1, 1, 1], [1, 1, 1, 1, 1, 1, 1, 1, 1, 1, 1, 1, 1, 1, 1, 1, 1, 1, 1, 1, 1, 1, 1, 1, 1, 1, 1, 1, 1, 1, 1, 1, 1, 1, 1, 1, 1, 1, 1, 1, 1, 1, 1, 1, 1, 1, 1, 1, 1, 1, 1, 1, 1, 1, 1, 1, 1, 1, 1, 1, 1, 1, 1, 1]] ...\n"
     ]
    }
   ],
   "source": [
    "for key, value in train_encodings.items():\n",
    "    print(f\"Key: {key}\")\n",
    "    print(f\"Value: {value[:2]} ...\")  # print only the first 2 items for brevity"
   ]
  },
  {
   "cell_type": "markdown",
   "id": "1bf7887e",
   "metadata": {},
   "source": [
    "Create a PyTorch Dataset\n",
    "Convert the tokenized inputs into a PyTorch dataset:"
   ]
  },
  {
   "cell_type": "code",
   "execution_count": 15,
   "id": "def41859",
   "metadata": {},
   "outputs": [],
   "source": [
    "import torch"
   ]
  },
  {
   "cell_type": "code",
   "execution_count": 16,
   "id": "bac97ea1",
   "metadata": {},
   "outputs": [],
   "source": [
    "class FakeNewsDataset(torch.utils.data.Dataset):\n",
    "    def __init__(self,encodings,labels):\n",
    "        self.encodings = encodings\n",
    "        self.labels = labels\n",
    "    \n",
    "    def __getitem__(self, index):\n",
    "        item = {key : torch.tensor(val[index]) for key,val in self.encodings.items()}\n",
    "        item['labels'] = torch.tensor(self.labels[index])\n",
    "        return item\n",
    "    \n",
    "    def __len__(self):\n",
    "        return len(self.labels)\n",
    "\n",
    "# Create dataset objects\n",
    "train_dataset = FakeNewsDataset(train_encodings, train_labels)\n",
    "test_dataset = FakeNewsDataset(test_encodings, test_labels)\n"
   ]
  },
  {
   "cell_type": "markdown",
   "id": "cda35198",
   "metadata": {},
   "source": [
    "Load Pretrained BERT Model for Sequence Classification\n",
    "We'll use the BertForSequenceClassification model:"
   ]
  },
  {
   "cell_type": "code",
   "execution_count": 17,
   "id": "585731af",
   "metadata": {},
   "outputs": [
    {
     "name": "stderr",
     "output_type": "stream",
     "text": [
      "Some weights of BertForSequenceClassification were not initialized from the model checkpoint at prajjwal1/bert-tiny and are newly initialized: ['classifier.bias', 'classifier.weight']\n",
      "You should probably TRAIN this model on a down-stream task to be able to use it for predictions and inference.\n"
     ]
    }
   ],
   "source": [
    "model = AutoModelForSequenceClassification.from_pretrained(model_name,num_labels=2)"
   ]
  },
  {
   "cell_type": "code",
   "execution_count": null,
   "id": "3908ff43",
   "metadata": {},
   "outputs": [
    {
     "name": "stderr",
     "output_type": "stream",
     "text": [
      "Some weights of DistilBertForSequenceClassification were not initialized from the model checkpoint at distilbert-base-uncased and are newly initialized: ['classifier.bias', 'classifier.weight', 'pre_classifier.bias', 'pre_classifier.weight']\n",
      "You should probably TRAIN this model on a down-stream task to be able to use it for predictions and inference.\n"
     ]
    }
   ],
   "source": [
    "\"\"\" from transformers import DistilBertForSequenceClassification\n",
    "\n",
    "# load the model\n",
    "model =DistilBertForSequenceClassification.from_pretrained('distilbert-base-uncased',num_labels=2) \"\"\""
   ]
  },
  {
   "cell_type": "markdown",
   "id": "649c4e93",
   "metadata": {},
   "source": [
    "Training the Model"
   ]
  },
  {
   "cell_type": "code",
   "execution_count": 24,
   "id": "56fd8f58",
   "metadata": {},
   "outputs": [
    {
     "name": "stderr",
     "output_type": "stream",
     "text": [
      "c:\\Users\\ASUS\\AppData\\Local\\Programs\\Python\\Python311\\Lib\\site-packages\\torch\\utils\\data\\dataloader.py:665: UserWarning: 'pin_memory' argument is set as true but no accelerator is found, then device pinned memory won't be used.\n",
      "  warnings.warn(warn_msg)\n"
     ]
    },
    {
     "data": {
      "text/html": [
       "\n",
       "    <div>\n",
       "      \n",
       "      <progress value='1485' max='1485' style='width:300px; height:20px; vertical-align: middle;'></progress>\n",
       "      [1485/1485 01:39, Epoch 3/3]\n",
       "    </div>\n",
       "    <table border=\"1\" class=\"dataframe\">\n",
       "  <thead>\n",
       " <tr style=\"text-align: left;\">\n",
       "      <th>Epoch</th>\n",
       "      <th>Training Loss</th>\n",
       "      <th>Validation Loss</th>\n",
       "      <th>Accuracy</th>\n",
       "    </tr>\n",
       "  </thead>\n",
       "  <tbody>\n",
       "    <tr>\n",
       "      <td>1</td>\n",
       "      <td>0.003000</td>\n",
       "      <td>0.015010</td>\n",
       "      <td>0.997475</td>\n",
       "    </tr>\n",
       "    <tr>\n",
       "      <td>2</td>\n",
       "      <td>0.036200</td>\n",
       "      <td>0.000932</td>\n",
       "      <td>1.000000</td>\n",
       "    </tr>\n",
       "    <tr>\n",
       "      <td>3</td>\n",
       "      <td>0.000800</td>\n",
       "      <td>0.001175</td>\n",
       "      <td>0.999495</td>\n",
       "    </tr>\n",
       "  </tbody>\n",
       "</table><p>"
      ],
      "text/plain": [
       "<IPython.core.display.HTML object>"
      ]
     },
     "metadata": {},
     "output_type": "display_data"
    },
    {
     "name": "stderr",
     "output_type": "stream",
     "text": [
      "c:\\Users\\ASUS\\AppData\\Local\\Programs\\Python\\Python311\\Lib\\site-packages\\torch\\utils\\data\\dataloader.py:665: UserWarning: 'pin_memory' argument is set as true but no accelerator is found, then device pinned memory won't be used.\n",
      "  warnings.warn(warn_msg)\n",
      "c:\\Users\\ASUS\\AppData\\Local\\Programs\\Python\\Python311\\Lib\\site-packages\\torch\\utils\\data\\dataloader.py:665: UserWarning: 'pin_memory' argument is set as true but no accelerator is found, then device pinned memory won't be used.\n",
      "  warnings.warn(warn_msg)\n"
     ]
    },
    {
     "data": {
      "text/plain": [
       "TrainOutput(global_step=1485, training_loss=0.009167637690111544, metrics={'train_runtime': 99.7494, 'train_samples_per_second': 238.197, 'train_steps_per_second': 14.887, 'total_flos': 3773346508800.0, 'train_loss': 0.009167637690111544, 'epoch': 3.0})"
      ]
     },
     "execution_count": 24,
     "metadata": {},
     "output_type": "execute_result"
    }
   ],
   "source": [
    "from transformers import Trainer, TrainingArguments\n",
    "\n",
    "training_args = TrainingArguments(\n",
    "    output_dir='/',\n",
    "    num_train_epochs=3,\n",
    "    per_device_train_batch_size=16,\n",
    "    per_device_eval_batch_size=64,\n",
    "    warmup_steps=500,\n",
    "    eval_strategy=\"epoch\", \n",
    "    save_strategy=\"epoch\", # Added to match eval_strategy\n",
    "    logging_dir='/',\n",
    "    logging_steps=10,\n",
    "    load_best_model_at_end=True,\n",
    "    metric_for_best_model=\"accuracy\",\n",
    "    greater_is_better=True\n",
    ")\n",
    "\n",
    "from sklearn.metrics import accuracy_score\n",
    "\n",
    "def compute_metrics(eval_pred):\n",
    "    logits, labels = eval_pred\n",
    "    predictions = torch.argmax(torch.tensor(logits), dim=-1)\n",
    "    return {'accuracy': accuracy_score(labels, predictions)}\n",
    "\n",
    "trainer = Trainer(\n",
    "    model=model,\n",
    "    args=training_args,\n",
    "    train_dataset=train_dataset,\n",
    "    eval_dataset=test_dataset,\n",
    "    compute_metrics=compute_metrics\n",
    ")\n",
    "\n",
    "# Train the model\n",
    "trainer.train()\n"
   ]
  },
  {
   "cell_type": "code",
   "execution_count": 25,
   "id": "a820d8f2",
   "metadata": {},
   "outputs": [
    {
     "name": "stderr",
     "output_type": "stream",
     "text": [
      "c:\\Users\\ASUS\\AppData\\Local\\Programs\\Python\\Python311\\Lib\\site-packages\\torch\\utils\\data\\dataloader.py:665: UserWarning: 'pin_memory' argument is set as true but no accelerator is found, then device pinned memory won't be used.\n",
      "  warnings.warn(warn_msg)\n"
     ]
    },
    {
     "data": {
      "text/html": [
       "\n",
       "    <div>\n",
       "      \n",
       "      <progress value='31' max='31' style='width:300px; height:20px; vertical-align: middle;'></progress>\n",
       "      [31/31 00:01]\n",
       "    </div>\n",
       "    "
      ],
      "text/plain": [
       "<IPython.core.display.HTML object>"
      ]
     },
     "metadata": {},
     "output_type": "display_data"
    },
    {
     "name": "stdout",
     "output_type": "stream",
     "text": [
      "Test Accuracy: 1.0000\n"
     ]
    }
   ],
   "source": [
    "# Evaluate the model\n",
    "eval_result = trainer.evaluate()\n",
    "print(f\"Test Accuracy: {eval_result['eval_accuracy']:.4f}\")"
   ]
  },
  {
   "cell_type": "markdown",
   "id": "d52f3eab",
   "metadata": {},
   "source": [
    "Make Predictions on New Data"
   ]
  },
  {
   "cell_type": "code",
   "execution_count": 26,
   "id": "8072aa40",
   "metadata": {},
   "outputs": [
    {
     "name": "stdout",
     "output_type": "stream",
     "text": [
      "Predicted Label: REAL\n"
     ]
    }
   ],
   "source": [
    "new_text = [\"The World Health Organization declared COVID-19 a global pandemic in March 2020.\"]\n",
    "\n",
    "# Tokenize the text\n",
    "inputs = tokenizer(new_text, return_tensors=\"pt\", truncation=True, padding=True, max_length=512)\n",
    "\n",
    "# Make prediction\n",
    "outputs = model(**inputs)\n",
    "predictions = torch.argmax(outputs.logits, dim=-1)\n",
    "\n",
    "# Map prediction to label\n",
    "label_map = {0: \"FAKE\", 1: \"REAL\"}\n",
    "predicted_label = label_map[predictions.item()]\n",
    "print(f\"Predicted Label: {predicted_label}\")"
   ]
  }
 ],
 "metadata": {
  "kernelspec": {
   "display_name": "Python 3",
   "language": "python",
   "name": "python3"
  },
  "language_info": {
   "codemirror_mode": {
    "name": "ipython",
    "version": 3
   },
   "file_extension": ".py",
   "mimetype": "text/x-python",
   "name": "python",
   "nbconvert_exporter": "python",
   "pygments_lexer": "ipython3",
   "version": "3.11.9"
  }
 },
 "nbformat": 4,
 "nbformat_minor": 5
}
